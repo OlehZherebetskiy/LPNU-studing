{
 "cells": [
  {
   "cell_type": "code",
   "execution_count": 43,
   "id": "modular-jenny",
   "metadata": {},
   "outputs": [],
   "source": [
    "from math import *\n",
    "import random\n",
    "import numpy as np\n",
    "\n",
    "\n",
    "landmarks=[[20.0, 20.0],\n",
    "           [20.0, 80.0],\n",
    "           [80.0, 80.0],\n",
    "           [80.0, 20.0]\n",
    "          ]\n",
    "\n",
    "\n",
    "world_size = 100.0"
   ]
  },
  {
   "cell_type": "code",
   "execution_count": 44,
   "id": "unique-driving",
   "metadata": {},
   "outputs": [
    {
     "ename": "SyntaxError",
     "evalue": "invalid syntax (<ipython-input-44-ced9cec18dd6>, line 58)",
     "output_type": "error",
     "traceback": [
      "\u001b[1;36m  File \u001b[1;32m\"<ipython-input-44-ced9cec18dd6>\"\u001b[1;36m, line \u001b[1;32m58\u001b[0m\n\u001b[1;33m    dist =\u001b[0m\n\u001b[1;37m           ^\u001b[0m\n\u001b[1;31mSyntaxError\u001b[0m\u001b[1;31m:\u001b[0m invalid syntax\n"
     ]
    }
   ],
   "source": [
    "\n",
    "\n",
    "class robot:\n",
    "    def __init__(self):\n",
    "        self.x = random.random() * world_size\n",
    "        self.y = random.random() * world_size\n",
    "        self.forward_noise = 0.0;\n",
    "        self.turn_noise    = 0.0;\n",
    "        self.sense_noise   = 0.0;\n",
    "    \n",
    "    def set(self, new_x, new_y):\n",
    "        if new_x < 0 or new_x >= world_size:\n",
    "            raise ValueError ('X coordinate out of bound')\n",
    "        if new_y < 0 or new_y >= world_size:\n",
    "            raise ValueError ('Y coordinate out of bound')\n",
    "        self.x = float(new_x)\n",
    "        self.y = float(new_y)\n",
    "    \n",
    "    \n",
    "    def set_noise(self, new_f_noise, new_t_noise, new_s_noise):\n",
    "        # makes it possible to change the noise parameters\n",
    "        # this is often useful in particle filters\n",
    "        self.forward_noise = float(new_f_noise);\n",
    "        self.turn_noise    = float(new_t_noise);\n",
    "        self.sense_noise   = float(new_s_noise);\n",
    "    \n",
    "    \n",
    "    def sense(self):\n",
    "        Z = []\n",
    "        \n",
    "        return Z\n",
    "    \n",
    "    \n",
    "    def move(self, x, y):         \n",
    "        \n",
    "        x = float(x) + random.gauss(0.0, self.forward_noise)\n",
    "        y = float(y) + random.gauss(0.0, self.forward_noise)\n",
    "        x = self.x + x\n",
    "        y = self.y + y\n",
    "        x %= world_size    # cyclic truncate\n",
    "        y %= world_size\n",
    "        \n",
    "        # set particle\n",
    "        res = robot()\n",
    "        res.set(x, y)\n",
    "        res.set_noise(self.forward_noise, self.turn_noise, self.sense_noise)\n",
    "        return res\n",
    "    \n",
    "    def Gaussian(self, mu, sigma, x):\n",
    "        \n",
    "        # calculates the probability of x for 1-dim Gaussian with mean mu and var. sigma\n",
    "        return exp(- ((mu - x) ** 2) / (sigma ** 2) / 2.0) / sqrt(2.0 * pi * (sigma ** 2))\n",
    "    \n",
    "    \n",
    "    def measurement_prob(self, measurement):        \n",
    "        # calculates how likely a measurement should be\n",
    "        \n",
    "        prob = 1.0;\n",
    "        for i in range(len(landmarks)):\n",
    "            dist = \n",
    "            prob *= self.Gaussian(dist, self.sense_noise, measurement[i])\n",
    "        return prob\n",
    "      \n",
    "    def __repr__(self):\n",
    "        return '[x=%.6s y=%.6s orient=%.6s]' % (str(self.x), str(self.y), str(self.orientation))\n"
   ]
  },
  {
   "cell_type": "code",
   "execution_count": 45,
   "id": "circular-storm",
   "metadata": {},
   "outputs": [],
   "source": [
    "#myrobot = robot()\n",
    "#myrobot.set_noise(5.0, 0.1, 5.0)\n",
    "#myrobot.set(30.0, 50.0, pi/2)\n",
    "#myrobot = myrobot.move(-pi/2, 15.0)\n",
    "#print myrobot.sense()\n",
    "#myrobot = myrobot.move(-pi/2, 10.0)\n",
    "#print myrobot.sense()"
   ]
  },
  {
   "cell_type": "code",
   "execution_count": 46,
   "id": "interesting-bloom",
   "metadata": {},
   "outputs": [
    {
     "ename": "SyntaxError",
     "evalue": "invalid syntax (<ipython-input-46-0c7975d574ce>, line 1)",
     "output_type": "error",
     "traceback": [
      "\u001b[1;36m  File \u001b[1;32m\"<ipython-input-46-0c7975d574ce>\"\u001b[1;36m, line \u001b[1;32m1\u001b[0m\n\u001b[1;33m    Z =\u001b[0m\n\u001b[1;37m        ^\u001b[0m\n\u001b[1;31mSyntaxError\u001b[0m\u001b[1;31m:\u001b[0m invalid syntax\n"
     ]
    }
   ],
   "source": [
    "\n",
    "\n",
    "Z = \n",
    "\n",
    "print(Z)"
   ]
  },
  {
   "cell_type": "code",
   "execution_count": 47,
   "id": "purple-benchmark",
   "metadata": {},
   "outputs": [
    {
     "ename": "NameError",
     "evalue": "name 'robot' is not defined",
     "output_type": "error",
     "traceback": [
      "\u001b[1;31m---------------------------------------------------------------------------\u001b[0m",
      "\u001b[1;31mNameError\u001b[0m                                 Traceback (most recent call last)",
      "\u001b[1;32m<ipython-input-47-867dae621ddd>\u001b[0m in \u001b[0;36m<module>\u001b[1;34m\u001b[0m\n\u001b[0;32m      2\u001b[0m \u001b[0mp\u001b[0m \u001b[1;33m=\u001b[0m \u001b[1;33m[\u001b[0m\u001b[1;33m]\u001b[0m\u001b[1;33m\u001b[0m\u001b[1;33m\u001b[0m\u001b[0m\n\u001b[0;32m      3\u001b[0m \u001b[1;32mfor\u001b[0m \u001b[0mi\u001b[0m \u001b[1;32min\u001b[0m \u001b[0mrange\u001b[0m\u001b[1;33m(\u001b[0m\u001b[0mN\u001b[0m\u001b[1;33m)\u001b[0m\u001b[1;33m:\u001b[0m\u001b[1;33m\u001b[0m\u001b[1;33m\u001b[0m\u001b[0m\n\u001b[1;32m----> 4\u001b[1;33m     \u001b[0mx\u001b[0m \u001b[1;33m=\u001b[0m \u001b[0mrobot\u001b[0m\u001b[1;33m(\u001b[0m\u001b[1;33m)\u001b[0m\u001b[1;33m\u001b[0m\u001b[1;33m\u001b[0m\u001b[0m\n\u001b[0m\u001b[0;32m      5\u001b[0m     \u001b[0mx\u001b[0m\u001b[1;33m.\u001b[0m\u001b[0mset_noise\u001b[0m\u001b[1;33m(\u001b[0m\u001b[1;36m0.05\u001b[0m\u001b[1;33m,\u001b[0m \u001b[1;36m0.05\u001b[0m\u001b[1;33m,\u001b[0m \u001b[1;36m5.0\u001b[0m\u001b[1;33m)\u001b[0m\u001b[1;33m\u001b[0m\u001b[1;33m\u001b[0m\u001b[0m\n\u001b[0;32m      6\u001b[0m     \u001b[0mp\u001b[0m\u001b[1;33m.\u001b[0m\u001b[0mappend\u001b[0m\u001b[1;33m(\u001b[0m\u001b[0mx\u001b[0m\u001b[1;33m)\u001b[0m\u001b[1;33m\u001b[0m\u001b[1;33m\u001b[0m\u001b[0m\n",
      "\u001b[1;31mNameError\u001b[0m: name 'robot' is not defined"
     ]
    }
   ],
   "source": [
    "N = 1000\n",
    "p = []\n",
    "for i in range(N):\n",
    "    x = robot()\n",
    "    x.set_noise(0.05, 0.05, 5.0)\n",
    "    p.append(x)"
   ]
  },
  {
   "cell_type": "code",
   "execution_count": 48,
   "id": "associate-diagnosis",
   "metadata": {},
   "outputs": [
    {
     "ename": "IndexError",
     "evalue": "list index out of range",
     "output_type": "error",
     "traceback": [
      "\u001b[1;31m---------------------------------------------------------------------------\u001b[0m",
      "\u001b[1;31mIndexError\u001b[0m                                Traceback (most recent call last)",
      "\u001b[1;32m<ipython-input-48-5ba03b662e86>\u001b[0m in \u001b[0;36m<module>\u001b[1;34m\u001b[0m\n\u001b[0;32m      1\u001b[0m \u001b[0mp2\u001b[0m \u001b[1;33m=\u001b[0m \u001b[1;33m[\u001b[0m\u001b[1;33m]\u001b[0m\u001b[1;33m\u001b[0m\u001b[1;33m\u001b[0m\u001b[0m\n\u001b[0;32m      2\u001b[0m \u001b[1;32mfor\u001b[0m \u001b[0mi\u001b[0m \u001b[1;32min\u001b[0m \u001b[0mrange\u001b[0m\u001b[1;33m(\u001b[0m\u001b[0mN\u001b[0m\u001b[1;33m)\u001b[0m\u001b[1;33m:\u001b[0m\u001b[1;33m\u001b[0m\u001b[1;33m\u001b[0m\u001b[0m\n\u001b[1;32m----> 3\u001b[1;33m     \u001b[0mp2\u001b[0m\u001b[1;33m.\u001b[0m\u001b[0mappend\u001b[0m\u001b[1;33m(\u001b[0m\u001b[0mp\u001b[0m\u001b[1;33m[\u001b[0m\u001b[0mi\u001b[0m\u001b[1;33m]\u001b[0m\u001b[1;33m.\u001b[0m\u001b[0mmove\u001b[0m\u001b[1;33m(\u001b[0m\u001b[1;36m0.1\u001b[0m\u001b[1;33m,\u001b[0m \u001b[1;36m5.0\u001b[0m\u001b[1;33m)\u001b[0m\u001b[1;33m)\u001b[0m\u001b[1;33m\u001b[0m\u001b[1;33m\u001b[0m\u001b[0m\n\u001b[0m\u001b[0;32m      4\u001b[0m \u001b[0mp\u001b[0m \u001b[1;33m=\u001b[0m \u001b[0mp2\u001b[0m\u001b[1;33m\u001b[0m\u001b[1;33m\u001b[0m\u001b[0m\n\u001b[0;32m      5\u001b[0m \u001b[0mprint\u001b[0m\u001b[1;33m(\u001b[0m\u001b[0mp\u001b[0m\u001b[1;33m)\u001b[0m\u001b[1;33m\u001b[0m\u001b[1;33m\u001b[0m\u001b[0m\n",
      "\u001b[1;31mIndexError\u001b[0m: list index out of range"
     ]
    }
   ],
   "source": [
    "p2 = []\n",
    "for i in range(N):\n",
    "    p2.append(p[i].move(0.1, 5.0))\n",
    "p = p2\n",
    "print(p)"
   ]
  },
  {
   "cell_type": "code",
   "execution_count": 49,
   "id": "intense-standing",
   "metadata": {},
   "outputs": [
    {
     "ename": "IndexError",
     "evalue": "list index out of range",
     "output_type": "error",
     "traceback": [
      "\u001b[1;31m---------------------------------------------------------------------------\u001b[0m",
      "\u001b[1;31mIndexError\u001b[0m                                Traceback (most recent call last)",
      "\u001b[1;32m<ipython-input-49-d559f84b85bb>\u001b[0m in \u001b[0;36m<module>\u001b[1;34m\u001b[0m\n\u001b[0;32m      1\u001b[0m \u001b[0mw\u001b[0m \u001b[1;33m=\u001b[0m \u001b[1;33m[\u001b[0m\u001b[1;33m]\u001b[0m\u001b[1;33m\u001b[0m\u001b[1;33m\u001b[0m\u001b[0m\n\u001b[0;32m      2\u001b[0m \u001b[1;32mfor\u001b[0m \u001b[0mi\u001b[0m \u001b[1;32min\u001b[0m \u001b[0mrange\u001b[0m\u001b[1;33m(\u001b[0m\u001b[0mN\u001b[0m\u001b[1;33m)\u001b[0m\u001b[1;33m:\u001b[0m\u001b[1;33m\u001b[0m\u001b[1;33m\u001b[0m\u001b[0m\n\u001b[1;32m----> 3\u001b[1;33m     \u001b[0mw\u001b[0m\u001b[1;33m.\u001b[0m\u001b[0mappend\u001b[0m\u001b[1;33m(\u001b[0m\u001b[0mp\u001b[0m\u001b[1;33m[\u001b[0m\u001b[0mi\u001b[0m\u001b[1;33m]\u001b[0m\u001b[1;33m.\u001b[0m\u001b[0mmeasurement_prob\u001b[0m\u001b[1;33m(\u001b[0m\u001b[0mZ\u001b[0m\u001b[1;33m)\u001b[0m\u001b[1;33m)\u001b[0m\u001b[1;33m\u001b[0m\u001b[1;33m\u001b[0m\u001b[0m\n\u001b[0m",
      "\u001b[1;31mIndexError\u001b[0m: list index out of range"
     ]
    }
   ],
   "source": [
    "w = []\n",
    "for i in range(N):\n",
    "    w.append(p[i].measurement_prob(Z))"
   ]
  },
  {
   "cell_type": "code",
   "execution_count": null,
   "id": "wound-specification",
   "metadata": {},
   "outputs": [],
   "source": []
  },
  {
   "cell_type": "code",
   "execution_count": 50,
   "id": "amateur-painting",
   "metadata": {},
   "outputs": [
    {
     "ename": "ValueError",
     "evalue": "max() arg is an empty sequence",
     "output_type": "error",
     "traceback": [
      "\u001b[1;31m---------------------------------------------------------------------------\u001b[0m",
      "\u001b[1;31mValueError\u001b[0m                                Traceback (most recent call last)",
      "\u001b[1;32m<ipython-input-50-8e8966620d39>\u001b[0m in \u001b[0;36m<module>\u001b[1;34m\u001b[0m\n\u001b[0;32m      2\u001b[0m \u001b[0mindex\u001b[0m \u001b[1;33m=\u001b[0m \u001b[0mint\u001b[0m\u001b[1;33m(\u001b[0m\u001b[0mrandom\u001b[0m\u001b[1;33m.\u001b[0m\u001b[0mrandom\u001b[0m\u001b[1;33m(\u001b[0m\u001b[1;33m)\u001b[0m \u001b[1;33m*\u001b[0m \u001b[0mN\u001b[0m\u001b[1;33m)\u001b[0m\u001b[1;33m\u001b[0m\u001b[1;33m\u001b[0m\u001b[0m\n\u001b[0;32m      3\u001b[0m \u001b[0mbeta\u001b[0m \u001b[1;33m=\u001b[0m \u001b[1;36m0.0\u001b[0m\u001b[1;33m\u001b[0m\u001b[1;33m\u001b[0m\u001b[0m\n\u001b[1;32m----> 4\u001b[1;33m \u001b[0mmw\u001b[0m \u001b[1;33m=\u001b[0m \u001b[0mmax\u001b[0m\u001b[1;33m(\u001b[0m\u001b[0mw\u001b[0m\u001b[1;33m)\u001b[0m\u001b[1;33m\u001b[0m\u001b[1;33m\u001b[0m\u001b[0m\n\u001b[0m\u001b[0;32m      5\u001b[0m \u001b[1;32mfor\u001b[0m \u001b[0mi\u001b[0m \u001b[1;32min\u001b[0m \u001b[0mrange\u001b[0m\u001b[1;33m(\u001b[0m\u001b[0mN\u001b[0m\u001b[1;33m)\u001b[0m\u001b[1;33m:\u001b[0m\u001b[1;33m\u001b[0m\u001b[1;33m\u001b[0m\u001b[0m\n\u001b[0;32m      6\u001b[0m     \u001b[0mbeta\u001b[0m \u001b[1;33m+=\u001b[0m \u001b[0mrandom\u001b[0m\u001b[1;33m.\u001b[0m\u001b[0mrandom\u001b[0m\u001b[1;33m(\u001b[0m\u001b[1;33m)\u001b[0m \u001b[1;33m*\u001b[0m \u001b[1;36m2.0\u001b[0m \u001b[1;33m*\u001b[0m \u001b[0mmw\u001b[0m\u001b[1;33m\u001b[0m\u001b[1;33m\u001b[0m\u001b[0m\n",
      "\u001b[1;31mValueError\u001b[0m: max() arg is an empty sequence"
     ]
    }
   ],
   "source": [
    "\n",
    "p3 = []\n",
    "index = int(random.random() * N)\n",
    "beta = 0.0\n",
    "mw = max(w)\n",
    "for i in range(N):\n",
    "    beta += random.random() * 2.0 * mw\n",
    "    while beta > w[index]:\n",
    "        beta -= w[index]\n",
    "        index = (index + 1) % N\n",
    "    p3.append(p[index])\n",
    "p = p3\n",
    "\n",
    "print (p)\n"
   ]
  },
  {
   "cell_type": "code",
   "execution_count": null,
   "id": "organic-spell",
   "metadata": {},
   "outputs": [],
   "source": []
  },
  {
   "cell_type": "code",
   "execution_count": null,
   "id": "technological-strength",
   "metadata": {},
   "outputs": [],
   "source": []
  },
  {
   "cell_type": "code",
   "execution_count": 57,
   "id": "divided-parliament",
   "metadata": {},
   "outputs": [],
   "source": [
    "def slope(P1, P2):\n",
    "    # dy/dx \n",
    "    # (y2 - y1) / (x2 - x1) \n",
    "    return(P2[1] - P1[1]) / (P2[0] - P1[0]+0.0000000001) \n",
    "    \n",
    "def y_intercept(P1, slope): \n",
    "    # y = mx + b \n",
    "    # b = y - mx \n",
    "    # b = P1[1] - slope * P1[0] \n",
    "    return P1[1] - slope * P1[0] \n",
    "\n",
    "def line_intersect(m1, b1, m2, b2):\n",
    "    if m1 == m2:\n",
    "        print ('These lines are parallel!!!')\n",
    "        return None\n",
    "    \n",
    "    # y = mx + b\n",
    "    # Set both lines equal to find the intersection point in the x direction\n",
    "    # m1 * x + b1 = m2 * x + b2\n",
    "    # m1 * x - m2 * x = b2 - b1\n",
    "    # x * (m1 - m2) = b2 - b1\n",
    "    # x = (b2 - b1) / (m1 - m2) \n",
    "    x = (b2 - b1) / (m1 - m2) \n",
    "    # Now solve for y -- use either line, because they are equal here \n",
    "    # y = mx + b \n",
    "    y = m1 * x + b1 \n",
    "    return x,y\n",
    "\n",
    "def findDist(A1,A2,B1,B2):\n",
    "    slope_A = slope(A1, A2)\n",
    "    slope_B = slope(B1, B2)\n",
    "    y_int_A = y_intercept(A1, slope_A)\n",
    "    y_int_B = y_intercept(B1, slope_B)\n",
    "    \n",
    "    x,y = line_intersect(slope_A, y_int_A, slope_B, y_int_B)\n",
    "    \n",
    "    dist = sqrt((A1[0] - x) ** 2 + (A1[1] - y) ** 2)\n",
    "    \n",
    "    return dist, x,y\n",
    "\n",
    "\n",
    "def secondDot(x,y,angle):\n",
    "    dist = 99999999\n",
    "    return [x+cos(angle) * dist , y+sin(angle) *dist]\n",
    "\n",
    "def checkAngle(x0,y0,x,y,angle):\n",
    "    boole = True\n",
    "    \n",
    "    dist = sqrt((x0 - x) ** 2 + (y0 - y) ** 2)\n",
    "    \n",
    "    co = (x-x0)/dist\n",
    "    si = (y-y0)/dist\n",
    "    \n",
    "    print(np.sign(co))\n",
    "    print(np.sign(si))\n",
    "    \n",
    "    return np.sign(cos(angle))  ==  np.sign(co) and np.sign(sin(angle))  ==  np.sign(si)\n",
    "    \n",
    "    \n",
    "\n",
    "def findMinDist(landmark, x,y, angle):\n",
    "    A1 = [x,y]\n",
    "    B1 = secondDot(x,y,angle)\n",
    "    \n",
    "    minDist = 9999999\n",
    "    \n",
    "    for i in range(len(landmark)-1):\n",
    "        A = landmark[i]\n",
    "        B = landmark[i+1]\n",
    "        \n",
    "        distA = sqrt((A[0] - A1[0]) ** 2 + (A[1] - A1[1]) ** 2)\n",
    "        distB = sqrt((B[0] - A1[0]) ** 2 + (B[1] - A1[1]) ** 2)\n",
    "        \n",
    "        dist, X, Y = findDist(A1, B1, A, B)\n",
    "        \n",
    "        print(distA)\n",
    "        print(distB)\n",
    "        print(dist)\n",
    "        \n",
    "        \n",
    "        if distA < distB:\n",
    "            if dist < distA or dist>distB:\n",
    "                dist= 99999999\n",
    "        elif distA > distB:\n",
    "            if dist < distB or dist>distA:\n",
    "                dist= 99999999\n",
    "        elif distA == distB:\n",
    "            if dist > distB:\n",
    "                dist= 99999999\n",
    "                \n",
    "        print(dist)\n",
    "        print(\"\\n\")\n",
    "                \n",
    "        if  checkAngle(x,y, X,Y, angle) and minDist > dist:\n",
    "            minDist = dist\n",
    "            \n",
    "    return minDist\n",
    "        \n",
    "    \n",
    "    \n",
    "    \n",
    "    "
   ]
  },
  {
   "cell_type": "code",
   "execution_count": 58,
   "id": "nasty-virus",
   "metadata": {},
   "outputs": [
    {
     "name": "stdout",
     "output_type": "stream",
     "text": [
      "70.71067811865476\n",
      "50.99019513592785\n",
      "120.14989808548124\n",
      "99999999\n",
      "\n",
      "\n",
      "-1.0\n",
      "1.0\n",
      "50.99019513592785\n",
      "14.142135623730951\n",
      "10.997501702946163\n",
      "99999999\n",
      "\n",
      "\n",
      "-1.0\n",
      "1.0\n",
      "14.142135623730951\n",
      "50.99019513592785\n",
      "24.029979617351405\n",
      "24.029979617351405\n",
      "\n",
      "\n",
      "1.0\n",
      "-1.0\n",
      "9999999\n"
     ]
    }
   ],
   "source": [
    "print(findMinDist(landmarks, 70,70,2))"
   ]
  },
  {
   "cell_type": "code",
   "execution_count": 60,
   "id": "based-riverside",
   "metadata": {},
   "outputs": [
    {
     "name": "stdout",
     "output_type": "stream",
     "text": [
      "-0.4161468365471424\n",
      "0.9092974268256817\n"
     ]
    }
   ],
   "source": [
    "print(cos(2))\n",
    "print(sin(2))"
   ]
  },
  {
   "cell_type": "code",
   "execution_count": null,
   "id": "municipal-purchase",
   "metadata": {},
   "outputs": [],
   "source": []
  }
 ],
 "metadata": {
  "kernelspec": {
   "display_name": "Python 3",
   "language": "python",
   "name": "python3"
  },
  "language_info": {
   "codemirror_mode": {
    "name": "ipython",
    "version": 3
   },
   "file_extension": ".py",
   "mimetype": "text/x-python",
   "name": "python",
   "nbconvert_exporter": "python",
   "pygments_lexer": "ipython3",
   "version": "3.8.5"
  }
 },
 "nbformat": 4,
 "nbformat_minor": 5
}
