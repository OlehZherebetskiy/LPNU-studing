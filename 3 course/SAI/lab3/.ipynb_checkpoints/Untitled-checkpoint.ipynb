{
 "cells": [
  {
   "cell_type": "code",
   "execution_count": 22,
   "metadata": {},
   "outputs": [
    {
     "ename": "SyntaxError",
     "evalue": "invalid syntax (<ipython-input-22-2c62b9418f6e>, line 28)",
     "output_type": "error",
     "traceback": [
      "\u001b[1;36m  File \u001b[1;32m\"<ipython-input-22-2c62b9418f6e>\"\u001b[1;36m, line \u001b[1;32m28\u001b[0m\n\u001b[1;33m    coord=str(input()).split(' ')\u001b[0m\n\u001b[1;37m    ^\u001b[0m\n\u001b[1;31mSyntaxError\u001b[0m\u001b[1;31m:\u001b[0m invalid syntax\n"
     ]
    }
   ],
   "source": [
    "#кількість сторін приміщення\n",
    "N = int(input())\n",
    "\n",
    "#координати приміщення\n",
    "coord=str(input()).split(' ')\n",
    "coordRoom=[]\n",
    "for i in range(N):\n",
    "    coordRoom.append([int(coord[i-1]), int(coord[i])])\n",
    "    \n",
    "#кількість перміщень робота  і крок лідара\n",
    "M,K=[int(el) for el in str(input()).split(' ')]\n",
    "print(M)\n",
    "\n",
    "#похибки\n",
    "Sl,Sx,Sy=[float(el) for el in str(input()).split(' ')]\n",
    "\n",
    "#початкові координати\n",
    "coord=str(input()).split(' ')\n",
    "x0,y0=None,None\n",
    "if len(coord)>1:\n",
    "    x0,y0=int(coord[1]),int(coord[2])\n",
    "    \n",
    "#\n",
    "lidarCoord=[]\n",
    "moveCoord=[]\n",
    "lidarCoord.append([float(el) for el in str(input()).split(' ')])\n",
    "moveCoord.append([float(el) for el in str(input()).split(' ')])\n",
    "\n",
    "    \n"
   ]
  },
  {
   "cell_type": "code",
   "execution_count": null,
   "metadata": {},
   "outputs": [],
   "source": []
  },
  {
   "cell_type": "code",
   "execution_count": null,
   "metadata": {},
   "outputs": [],
   "source": []
  }
 ],
 "metadata": {
  "kernelspec": {
   "display_name": "Python 3",
   "language": "python",
   "name": "python3"
  },
  "language_info": {
   "codemirror_mode": {
    "name": "ipython",
    "version": 3
   },
   "file_extension": ".py",
   "mimetype": "text/x-python",
   "name": "python",
   "nbconvert_exporter": "python",
   "pygments_lexer": "ipython3",
   "version": "3.8.5"
  }
 },
 "nbformat": 4,
 "nbformat_minor": 4
}
