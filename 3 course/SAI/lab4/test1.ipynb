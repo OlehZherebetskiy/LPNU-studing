{
 "cells": [
  {
   "cell_type": "code",
   "execution_count": 1,
   "id": "front-cooperation",
   "metadata": {},
   "outputs": [],
   "source": [
    "import sys\n",
    "import cv2 as cv\n",
    "import math\n",
    "import numpy as np\n",
    "import matplotlib.pyplot as plt\n",
    "import imutils\n",
    "from math import sqrt,exp"
   ]
  },
  {
   "cell_type": "code",
   "execution_count": 2,
   "id": "crazy-russian",
   "metadata": {},
   "outputs": [
    {
     "data": {
      "text/plain": [
       "'\\n    Написати програму яка шукає шаблон на зображені наступним чином \\n    Підготовка\\n    1 - перетворює зображення на ЧБ.\\n    2 - знаходить контури на зображенні (canny)\\n    3 - будує матрицю M, елементами якої є манхетенська відстань до найближчого контуру\\n    Шаблон\\n    Шаблоном є бінарне зображення пікселі якого 1 або 0\\n    Пошук\\n    Результатом пошуку є така позиція шаблону на матриці, що сума всіх елементів M які відповідають 1 в шаблоні, була мінімальною.\\n\\n'"
      ]
     },
     "execution_count": 2,
     "metadata": {},
     "output_type": "execute_result"
    }
   ],
   "source": [
    "'''\n",
    "    Написати програму яка шукає шаблон на зображені наступним чином \n",
    "    Підготовка\n",
    "    1 - перетворює зображення на ЧБ.\n",
    "    2 - знаходить контури на зображенні (canny)\n",
    "    3 - будує матрицю M, елементами якої є манхетенська відстань до найближчого контуру\n",
    "    Шаблон\n",
    "    Шаблоном є бінарне зображення пікселі якого 1 або 0\n",
    "    Пошук\n",
    "    Результатом пошуку є така позиція шаблону на матриці, що сума всіх елементів M які відповідають 1 в шаблоні, була мінімальною.\n",
    "\n",
    "'''"
   ]
  },
  {
   "cell_type": "code",
   "execution_count": 3,
   "id": "sexual-certificate",
   "metadata": {},
   "outputs": [],
   "source": [
    "#Пошук\n",
    "\n",
    "def simplefindPos(MImage, edgesTemplate):\n",
    "    dotsTemplate = np.argwhere(np.array(edgesTemplate) == 255)\n",
    "    if (len(MImage)<len(edgesTemplate)) or (len(MImage[0])<len(edgesTemplate[0])):\n",
    "        return 999999999,[]\n",
    "\n",
    "    edgesRows = len(edgesTemplate)\n",
    "    edgesCols = len(edgesTemplate[0])\n",
    "\n",
    "    rows = len(MImage)\n",
    "    cols = len(MImage[0])\n",
    "\n",
    "    minSum = 1000000000\n",
    "    minSumX = 0\n",
    "    minSumY = 0\n",
    "\n",
    "    for row in range(rows):\n",
    "        for col in range(cols):\n",
    "            if edgesRows+row>=rows or edgesCols+col>=cols:\n",
    "                continue\n",
    "            sum=0\n",
    "            for xy in dotsTemplate:\n",
    "                sum+=MImage[xy[0]+row][xy[1]+col]\n",
    "                if minSum< sum:\n",
    "                    break\n",
    "            if minSum> sum:\n",
    "                minSum = sum\n",
    "                minSumX = row\n",
    "                minSumY = col\n",
    "\n",
    "    posMatrix=[[0 for i in range(cols)] for j in range(rows) ]\n",
    "    for xy in dotsTemplate:\n",
    "        posMatrix[xy[0]+minSumX][xy[1]+minSumY]=255\n",
    "\n",
    "    return minSum, posMatrix"
   ]
  },
  {
   "cell_type": "code",
   "execution_count": 4,
   "id": "great-carnival",
   "metadata": {},
   "outputs": [],
   "source": [
    "#будує матрицю M, елементами якої є манхетенська відстань до найближчого контуру\n",
    "def getM(edges):\n",
    "    rows = len(edges)\n",
    "    cols = len(edges[0])\n",
    "    \n",
    "    M = [[rows+cols+1 for i in range(cols)] for i in range(rows) ]\n",
    "\n",
    "    dots = np.argwhere(np.array(edges) ==255)\n",
    "\n",
    "    for el in dots:\n",
    "        for irow in range(rows):\n",
    "            for icol in range(cols): \n",
    "                if M[irow][icol]> abs((irow-el[0]))+abs((icol-el[1])):\n",
    "                    M[irow][icol]= abs((irow-el[0]))+abs((icol-el[1]))\n",
    "\n",
    "    return M"
   ]
  },
  {
   "cell_type": "code",
   "execution_count": 5,
   "id": "assisted-crash",
   "metadata": {},
   "outputs": [],
   "source": [
    "#завантажує зображення\n",
    "def loadImage(name):\n",
    "    return cv.imread(name)"
   ]
  },
  {
   "cell_type": "code",
   "execution_count": 6,
   "id": "balanced-contemporary",
   "metadata": {},
   "outputs": [],
   "source": [
    "def loadTemplate(name):\n",
    "    template = cv.imread(name)\n",
    "    templateBW = imageBlackandWhite(template)\n",
    "    return getEdges(templateBW,100,200)"
   ]
  },
  {
   "cell_type": "code",
   "execution_count": 7,
   "id": "hollywood-prisoner",
   "metadata": {},
   "outputs": [],
   "source": [
    "#знаходить контури на зображенні (canny)\n",
    "def getEdges(img, minP, maxP):\n",
    "    return cv.Canny(img,minP,maxP)"
   ]
  },
  {
   "cell_type": "code",
   "execution_count": 8,
   "id": "framed-marine",
   "metadata": {},
   "outputs": [],
   "source": [
    "#перетворює зображення на ЧБ\n",
    "def imageBlackandWhite(image):\n",
    "\n",
    "    grayImage = cv.cvtColor(image, cv.COLOR_BGR2GRAY)\n",
    "    (thresh, blackAndWhiteImage) = cv.threshold(grayImage, 127, 255, cv.THRESH_BINARY)\n",
    "    \n",
    "    return grayImage"
   ]
  },
  {
   "cell_type": "code",
   "execution_count": 9,
   "id": "generous-observation",
   "metadata": {},
   "outputs": [],
   "source": [
    "def connect(image1, template1Pos):\n",
    "    rows = len(image1)\n",
    "    cols = len(image1[0])\n",
    "\n",
    "    image1template1 = [[0 for i in range(cols)] for i in range(rows) ]\n",
    "\n",
    "    for row in range(rows):\n",
    "        for col in range(cols):\n",
    "            if template1Pos[row][col]==255:\n",
    "                image1template1[row][col]=[255,0,0]\n",
    "            else:\n",
    "                image1template1[row][col]=image1[row][col]\n",
    "    return image1template1"
   ]
  },
  {
   "cell_type": "code",
   "execution_count": null,
   "id": "facial-survival",
   "metadata": {},
   "outputs": [],
   "source": [
    "\n",
    "\n",
    "\n",
    "\n"
   ]
  },
  {
   "cell_type": "code",
   "execution_count": 10,
   "id": "liquid-costs",
   "metadata": {},
   "outputs": [],
   "source": [
    "image1 = loadImage(\"template1.png\")"
   ]
  },
  {
   "cell_type": "code",
   "execution_count": 11,
   "id": "hired-bracelet",
   "metadata": {},
   "outputs": [],
   "source": [
    "image1BW = imageBlackandWhite(image1)"
   ]
  },
  {
   "cell_type": "code",
   "execution_count": 12,
   "id": "settled-ferry",
   "metadata": {},
   "outputs": [],
   "source": [
    "image1Edges = getEdges(image1BW,100,200)"
   ]
  },
  {
   "cell_type": "code",
   "execution_count": 13,
   "id": "durable-merchant",
   "metadata": {},
   "outputs": [],
   "source": [
    "image2 = loadImage(\"template2.png\")"
   ]
  },
  {
   "cell_type": "code",
   "execution_count": 14,
   "id": "utility-receptor",
   "metadata": {},
   "outputs": [],
   "source": [
    "image2BW = imageBlackandWhite(image2)"
   ]
  },
  {
   "cell_type": "code",
   "execution_count": 15,
   "id": "changing-puzzle",
   "metadata": {},
   "outputs": [],
   "source": [
    "image2Edges = getEdges(image2BW,100,200)"
   ]
  },
  {
   "cell_type": "code",
   "execution_count": null,
   "id": "respiratory-tennis",
   "metadata": {},
   "outputs": [],
   "source": [
    "\n",
    "\n",
    "\n"
   ]
  },
  {
   "cell_type": "code",
   "execution_count": 16,
   "id": "least-devon",
   "metadata": {},
   "outputs": [
    {
     "name": "stdout",
     "output_type": "stream",
     "text": [
      "[[[255 254 255]\n",
      "  [255 254 255]\n",
      "  [255 255 255]\n",
      "  ...\n",
      "  [255 255 255]\n",
      "  [255 255 255]\n",
      "  [255 255 255]]\n",
      "\n",
      " [[255 254 255]\n",
      "  [255 254 255]\n",
      "  [255 255 255]\n",
      "  ...\n",
      "  [255 255 255]\n",
      "  [255 255 255]\n",
      "  [255 255 255]]\n",
      "\n",
      " [[255 254 255]\n",
      "  [255 254 255]\n",
      "  [255 255 255]\n",
      "  ...\n",
      "  [255 255 255]\n",
      "  [255 255 255]\n",
      "  [255 255 255]]\n",
      "\n",
      " ...\n",
      "\n",
      " [[253 255 255]\n",
      "  [253 255 255]\n",
      "  [253 255 255]\n",
      "  ...\n",
      "  [255 255 255]\n",
      "  [255 255 255]\n",
      "  [255 255 255]]\n",
      "\n",
      " [[255 255 255]\n",
      "  [255 254 255]\n",
      "  [253 255 255]\n",
      "  ...\n",
      "  [255 255 255]\n",
      "  [255 255 255]\n",
      "  [255 255 255]]\n",
      "\n",
      " [[255 255 255]\n",
      "  [255 254 255]\n",
      "  [255 254 255]\n",
      "  ...\n",
      "  [255 255 255]\n",
      "  [255 255 255]\n",
      "  [255 255 255]]]\n"
     ]
    }
   ],
   "source": [
    "print(image1)"
   ]
  },
  {
   "cell_type": "code",
   "execution_count": 17,
   "id": "alone-indianapolis",
   "metadata": {},
   "outputs": [
    {
     "data": {
      "text/plain": [
       "Text(0.5, 1.0, 'Image 1')"
      ]
     },
     "execution_count": 17,
     "metadata": {},
     "output_type": "execute_result"
    },
    {
     "data": {
      "image/png": "[encoded data removed]",
      "text/plain": [
       "<Figure size 432x288 with 1 Axes>"
      ]
     },
     "metadata": {
      "needs_background": "light"
     },
     "output_type": "display_data"
    }
   ],
   "source": [
    "plt.imshow(image1)\n",
    "plt.title('Image 1')"
   ]
  },
  {
   "cell_type": "code",
   "execution_count": 18,
   "id": "related-atlantic",
   "metadata": {},
   "outputs": [
    {
     "data": {
      "text/plain": [
       "Text(0.5, 1.0, 'Image BW 1')"
      ]
     },
     "execution_count": 18,
     "metadata": {},
     "output_type": "execute_result"
    },
    {
     "data": {
      "image/png": "[encoded data removed]",
      "text/plain": [
       "<Figure size 432x288 with 1 Axes>"
      ]
     },
     "metadata": {
      "needs_background": "light"
     },
     "output_type": "display_data"
    }
   ],
   "source": [
    "plt.imshow(image1BW, \"gray\")\n",
    "plt.title('Image BW 1')"
   ]
  },
  {
   "cell_type": "code",
   "execution_count": 19,
   "id": "mathematical-plumbing",
   "metadata": {},
   "outputs": [
    {
     "data": {
      "text/plain": [
       "Text(0.5, 1.0, 'Image Edges 1')"
      ]
     },
     "execution_count": 19,
     "metadata": {},
     "output_type": "execute_result"
    },
    {
     "data": {
      "image/png": "[encoded data removed]",
      "text/plain": [
       "<Figure size 432x288 with 1 Axes>"
      ]
     },
     "metadata": {
      "needs_background": "light"
     },
     "output_type": "display_data"
    }
   ],
   "source": [
    "plt.imshow(image1Edges, \"gray\")\n",
    "plt.title('Image Edges 1')"
   ]
  },
  {
   "cell_type": "code",
   "execution_count": null,
   "id": "lovely-language",
   "metadata": {},
   "outputs": [],
   "source": []
  },
  {
   "cell_type": "code",
   "execution_count": 20,
   "id": "parallel-parcel",
   "metadata": {},
   "outputs": [
    {
     "name": "stdout",
     "output_type": "stream",
     "text": [
      "[[[138 124 218]\n",
      "  [138 124 218]\n",
      "  [138 124 218]\n",
      "  ...\n",
      "  [138 124 218]\n",
      "  [138 124 218]\n",
      "  [138 124 218]]\n",
      "\n",
      " [[138 124 218]\n",
      "  [138 124 218]\n",
      "  [138 124 218]\n",
      "  ...\n",
      "  [138 124 218]\n",
      "  [138 124 218]\n",
      "  [138 124 218]]\n",
      "\n",
      " [[137 123 217]\n",
      "  [137 123 217]\n",
      "  [137 123 217]\n",
      "  ...\n",
      "  [138 124 218]\n",
      "  [138 124 218]\n",
      "  [138 124 218]]\n",
      "\n",
      " ...\n",
      "\n",
      " [[ 37  46 136]\n",
      "  [ 35  45 133]\n",
      "  [ 34  44 132]\n",
      "  ...\n",
      "  [125 100 180]\n",
      "  [125 100 180]\n",
      "  [125 100 180]]\n",
      "\n",
      " [[ 37  46 136]\n",
      "  [ 35  44 134]\n",
      "  [ 34  44 132]\n",
      "  ...\n",
      "  [122 136  54]\n",
      "  [122 136  54]\n",
      "  [122 136  54]]\n",
      "\n",
      " [[ 46  53 133]\n",
      "  [ 46  53 133]\n",
      "  [ 46  53 133]\n",
      "  ...\n",
      "  [152 168  80]\n",
      "  [152 168  80]\n",
      "  [152 168  80]]]\n"
     ]
    }
   ],
   "source": [
    "print(image2)"
   ]
  },
  {
   "cell_type": "code",
   "execution_count": 21,
   "id": "italic-beach",
   "metadata": {},
   "outputs": [
    {
     "data": {
      "text/plain": [
       "Text(0.5, 1.0, 'Image 2')"
      ]
     },
     "execution_count": 21,
     "metadata": {},
     "output_type": "execute_result"
    },
    {
     "data": {
      "image/png": "[encoded data removed]",
      "text/plain": [
       "<Figure size 432x288 with 1 Axes>"
      ]
     },
     "metadata": {
      "needs_background": "light"
     },
     "output_type": "display_data"
    }
   ],
   "source": [
    "plt.imshow(image2)\n",
    "plt.title('Image 2')"
   ]
  },
  {
   "cell_type": "code",
   "execution_count": 22,
   "id": "entertaining-ceramic",
   "metadata": {},
   "outputs": [
    {
     "data": {
      "text/plain": [
       "Text(0.5, 1.0, 'Image BW 2')"
      ]
     },
     "execution_count": 22,
     "metadata": {},
     "output_type": "execute_result"
    },
    {
     "data": {
      "image/png": "[encoded data removed]",
      "text/plain": [
       "<Figure size 432x288 with 1 Axes>"
      ]
     },
     "metadata": {
      "needs_background": "light"
     },
     "output_type": "display_data"
    }
   ],
   "source": [
    "plt.imshow(image2BW, \"gray\")\n",
    "plt.title('Image BW 2')"
   ]
  },
  {
   "cell_type": "code",
   "execution_count": 23,
   "id": "japanese-berry",
   "metadata": {},
   "outputs": [
    {
     "data": {
      "text/plain": [
       "Text(0.5, 1.0, 'Image Edges 2')"
      ]
     },
     "execution_count": 23,
     "metadata": {},
     "output_type": "execute_result"
    },
    {
     "data": {
      "image/png": "[encoded data removed]",
      "text/plain": [
       "<Figure size 432x288 with 1 Axes>"
      ]
     },
     "metadata": {
      "needs_background": "light"
     },
     "output_type": "display_data"
    }
   ],
   "source": [
    "plt.imshow(image2Edges, \"gray\")\n",
    "plt.title('Image Edges 2')"
   ]
  },
  {
   "cell_type": "code",
   "execution_count": null,
   "id": "approximate-toner",
   "metadata": {},
   "outputs": [],
   "source": [
    "\n",
    "\n",
    "\n",
    "\n",
    "\n",
    "\n"
   ]
  },
  {
   "cell_type": "code",
   "execution_count": 24,
   "id": "opened-scheduling",
   "metadata": {},
   "outputs": [],
   "source": [
    "image1M = getM(image1Edges)"
   ]
  },
  {
   "cell_type": "code",
   "execution_count": 25,
   "id": "substantial-camel",
   "metadata": {},
   "outputs": [],
   "source": [
    "image2M = getM(image2Edges)"
   ]
  },
  {
   "cell_type": "code",
   "execution_count": null,
   "id": "detailed-reference",
   "metadata": {},
   "outputs": [],
   "source": []
  },
  {
   "cell_type": "code",
   "execution_count": 27,
   "id": "constant-eligibility",
   "metadata": {},
   "outputs": [],
   "source": [
    "with open('imagetest1M.npy', 'rb') as f:\n",
    "    image1M = np.load(f).tolist()"
   ]
  },
  {
   "cell_type": "code",
   "execution_count": null,
   "id": "possible-router",
   "metadata": {},
   "outputs": [],
   "source": [
    "\n",
    "\n",
    "\n",
    "\n",
    "\n",
    "\n"
   ]
  },
  {
   "cell_type": "code",
   "execution_count": 28,
   "id": "coordinated-screening",
   "metadata": {},
   "outputs": [
    {
     "name": "stdout",
     "output_type": "stream",
     "text": [
      "[[11, 10, 9, 8, 7, 6, 5, 4, 3, 2, 2, 2, 1, 1, 2, 2, 2, 3, 4, 5, 6, 7, 8, 9, 10, 11, 12, 13, 14], [10, 9, 8, 7, 6, 5, 4, 3, 2, 1, 1, 1, 0, 0, 1, 1, 1, 2, 3, 4, 5, 6, 7, 8, 9, 10, 11, 12, 13], [9, 8, 7, 6, 5, 4, 3, 2, 1, 0, 0, 0, 1, 1, 0, 0, 0, 1, 2, 3, 4, 5, 6, 7, 8, 9, 10, 11, 12], [8, 7, 6, 5, 4, 3, 2, 1, 0, 0, 1, 1, 2, 2, 1, 1, 0, 0, 1, 2, 3, 4, 5, 6, 7, 8, 9, 10, 11], [8, 7, 6, 5, 4, 3, 2, 1, 0, 1, 1, 0, 1, 2, 2, 2, 1, 0, 0, 1, 2, 3, 4, 5, 6, 7, 8, 9, 10], [8, 7, 6, 5, 4, 3, 2, 1, 0, 1, 0, 1, 2, 2, 2, 2, 2, 1, 0, 1, 2, 3, 4, 5, 6, 7, 8, 9, 10], [7, 6, 5, 4, 3, 2, 1, 0, 1, 1, 1, 1, 1, 1, 1, 1, 2, 1, 0, 1, 2, 3, 4, 5, 6, 7, 8, 9, 10], [7, 6, 5, 4, 3, 2, 1, 0, 1, 0, 0, 0, 0, 0, 0, 0, 1, 2, 1, 0, 1, 2, 3, 4, 5, 6, 7, 8, 9], [7, 6, 5, 4, 3, 2, 1, 0, 1, 0, 1, 0, 1, 1, 1, 1, 2, 2, 1, 0, 1, 2, 3, 4, 5, 6, 7, 8, 9], [7, 6, 5, 4, 3, 2, 1, 0, 1, 0, 0, 0, 0, 0, 0, 1, 2, 2, 1, 0, 1, 2, 3, 4, 5, 6, 7, 8, 9], [7, 6, 5, 4, 3, 2, 1, 0, 1, 1, 1, 1, 1, 1, 1, 2, 3, 2, 1, 0, 1, 2, 3, 4, 5, 6, 7, 8, 9], [7, 6, 5, 4, 3, 2, 1, 0, 1, 2, 1, 1, 1, 1, 2, 3, 4, 3, 2, 1, 0, 1, 2, 3, 4, 5, 6, 7, 8], [7, 6, 5, 4, 3, 2, 1, 0, 1, 1, 0, 0, 0, 0, 1, 2, 3, 3, 2, 1, 0, 1, 2, 3, 4, 5, 6, 7, 8], [7, 6, 5, 4, 3, 2, 1, 0, 1, 2, 1, 1, 1, 0, 1, 2, 3, 3, 2, 1, 0, 1, 2, 3, 4, 5, 6, 7, 8], [7, 6, 5, 4, 3, 2, 1, 0, 1, 2, 1, 0, 0, 1, 2, 3, 4, 3, 2, 1, 0, 1, 2, 3, 4, 5, 6, 7, 8], [7, 6, 5, 4, 3, 2, 1, 0, 1, 1, 0, 1, 1, 2, 3, 4, 4, 3, 2, 1, 0, 1, 2, 3, 4, 5, 6, 7, 8], [7, 6, 5, 4, 3, 2, 1, 0, 1, 2, 1, 2, 2, 3, 4, 5, 4, 3, 2, 1, 0, 1, 2, 3, 4, 5, 6, 7, 8], [7, 6, 5, 4, 3, 2, 1, 0, 1, 2, 2, 3, 3, 4, 5, 5, 4, 3, 2, 1, 0, 1, 2, 3, 4, 5, 6, 7, 8], [7, 6, 5, 4, 3, 2, 1, 0, 1, 2, 3, 4, 4, 5, 6, 5, 4, 3, 2, 1, 0, 1, 2, 3, 4, 5, 6, 7, 8], [7, 6, 5, 4, 3, 2, 1, 0, 1, 2, 3, 4, 5, 6, 7, 6, 5, 4, 3, 2, 1, 0, 1, 2, 3, 4, 5, 6, 7], [7, 6, 5, 4, 3, 2, 1, 0, 1, 2, 3, 4, 5, 6, 7, 6, 5, 4, 3, 2, 1, 0, 1, 2, 3, 4, 5, 6, 7], [7, 6, 5, 4, 3, 2, 1, 0, 1, 2, 3, 4, 5, 6, 7, 6, 5, 4, 3, 2, 1, 0, 1, 2, 3, 4, 5, 6, 7], [7, 6, 5, 4, 3, 2, 1, 0, 1, 2, 3, 4, 5, 6, 7, 6, 5, 4, 3, 2, 1, 0, 1, 2, 3, 4, 5, 6, 7], [7, 6, 5, 4, 3, 2, 1, 0, 1, 2, 3, 4, 5, 6, 7, 6, 5, 4, 3, 2, 1, 0, 1, 2, 3, 4, 5, 6, 7], [7, 6, 5, 4, 3, 2, 1, 0, 1, 2, 3, 4, 5, 6, 7, 6, 5, 4, 3, 2, 1, 0, 1, 2, 3, 4, 5, 6, 7], [7, 6, 5, 4, 3, 2, 1, 0, 1, 2, 3, 4, 5, 6, 7, 6, 5, 4, 3, 2, 1, 0, 1, 2, 3, 4, 5, 6, 7], [7, 6, 5, 4, 3, 2, 1, 0, 1, 2, 3, 4, 5, 6, 6, 5, 4, 3, 2, 1, 0, 1, 2, 3, 4, 5, 6, 7, 8], [7, 6, 5, 4, 3, 2, 1, 0, 1, 2, 3, 4, 5, 6, 6, 5, 4, 3, 2, 1, 0, 1, 2, 3, 4, 5, 6, 7, 8], [7, 6, 5, 4, 3, 2, 1, 0, 1, 2, 3, 4, 5, 6, 6, 5, 4, 3, 2, 1, 0, 1, 2, 3, 4, 5, 6, 7, 8], [7, 6, 5, 4, 3, 2, 1, 0, 1, 2, 3, 4, 5, 6, 6, 5, 4, 3, 2, 1, 0, 1, 2, 3, 4, 5, 6, 7, 8], [6, 5, 4, 3, 2, 1, 0, 1, 2, 3, 4, 5, 6, 7, 6, 5, 4, 3, 2, 1, 0, 1, 2, 3, 4, 5, 6, 7, 8], [6, 5, 4, 3, 2, 1, 0, 1, 2, 3, 4, 5, 6, 7, 6, 5, 4, 3, 2, 1, 0, 1, 2, 3, 4, 5, 6, 7, 8], [6, 5, 4, 3, 2, 1, 0, 1, 2, 3, 4, 5, 6, 6, 5, 4, 3, 2, 1, 0, 1, 2, 3, 4, 5, 6, 7, 8, 9], [6, 5, 4, 3, 2, 1, 0, 1, 2, 3, 4, 5, 6, 6, 5, 4, 3, 2, 1, 0, 1, 2, 3, 4, 5, 6, 7, 8, 9], [6, 5, 4, 3, 2, 1, 0, 1, 2, 3, 4, 5, 6, 6, 5, 4, 3, 2, 1, 0, 1, 2, 3, 4, 5, 6, 7, 8, 9], [6, 5, 4, 3, 2, 1, 0, 1, 2, 3, 4, 5, 6, 5, 4, 3, 2, 1, 0, 1, 2, 3, 4, 5, 6, 7, 8, 9, 10], [6, 5, 4, 3, 2, 1, 0, 1, 2, 3, 4, 5, 5, 4, 4, 3, 2, 1, 0, 1, 2, 3, 4, 5, 6, 7, 8, 9, 10], [6, 5, 4, 3, 2, 1, 0, 1, 2, 3, 4, 4, 4, 3, 3, 2, 1, 0, 0, 1, 2, 3, 4, 5, 6, 7, 8, 9, 10], [7, 6, 5, 4, 3, 2, 1, 0, 1, 2, 3, 3, 3, 2, 2, 1, 0, 0, 1, 2, 3, 4, 5, 6, 7, 8, 9, 10, 11], [7, 6, 5, 4, 3, 2, 1, 0, 0, 1, 2, 2, 2, 1, 1, 0, 0, 1, 2, 3, 4, 5, 6, 7, 8, 9, 10, 11, 12], [8, 7, 6, 5, 4, 3, 2, 1, 0, 0, 1, 1, 1, 0, 0, 0, 1, 2, 3, 4, 5, 6, 7, 8, 9, 10, 11, 12, 13], [9, 8, 7, 6, 5, 4, 3, 2, 1, 1, 0, 0, 0, 1, 1, 1, 2, 3, 4, 5, 6, 7, 8, 9, 10, 11, 12, 13, 14], [10, 9, 8, 7, 6, 5, 4, 3, 2, 2, 1, 1, 1, 2, 2, 2, 3, 4, 5, 6, 7, 8, 9, 10, 11, 12, 13, 14, 15]]\n"
     ]
    }
   ],
   "source": [
    "print(image1M)"
   ]
  },
  {
   "cell_type": "code",
   "execution_count": 29,
   "id": "departmental-auditor",
   "metadata": {},
   "outputs": [
    {
     "ename": "NameError",
     "evalue": "name 'image2M' is not defined",
     "output_type": "error",
     "traceback": [
      "\u001b[1;31m---------------------------------------------------------------------------\u001b[0m",
      "\u001b[1;31mNameError\u001b[0m                                 Traceback (most recent call last)",
      "\u001b[1;32m<ipython-input-29-9bc2ce5c4e00>\u001b[0m in \u001b[0;36m<module>\u001b[1;34m\u001b[0m\n\u001b[1;32m----> 1\u001b[1;33m \u001b[0mprint\u001b[0m\u001b[1;33m(\u001b[0m\u001b[0mimage2M\u001b[0m\u001b[1;33m)\u001b[0m\u001b[1;33m\u001b[0m\u001b[1;33m\u001b[0m\u001b[0m\n\u001b[0m",
      "\u001b[1;31mNameError\u001b[0m: name 'image2M' is not defined"
     ]
    }
   ],
   "source": [
    "print(image2M)"
   ]
  },
  {
   "cell_type": "code",
   "execution_count": null,
   "id": "regulated-butterfly",
   "metadata": {},
   "outputs": [],
   "source": []
  },
  {
   "cell_type": "code",
   "execution_count": 30,
   "id": "secret-serial",
   "metadata": {},
   "outputs": [],
   "source": [
    "template1 = loadTemplate(\"template1.png\")"
   ]
  },
  {
   "cell_type": "code",
   "execution_count": 31,
   "id": "enhanced-circumstances",
   "metadata": {},
   "outputs": [],
   "source": [
    "template2 = loadTemplate(\"template2.png\")"
   ]
  },
  {
   "cell_type": "code",
   "execution_count": 32,
   "id": "greenhouse-lancaster",
   "metadata": {},
   "outputs": [
    {
     "data": {
      "text/plain": [
       "Text(0.5, 1.0, 'Template 1')"
      ]
     },
     "execution_count": 32,
     "metadata": {},
     "output_type": "execute_result"
    },
    {
     "data": {
      "image/png": "[encoded data removed]",
      "text/plain": [
       "<Figure size 432x288 with 1 Axes>"
      ]
     },
     "metadata": {
      "needs_background": "light"
     },
     "output_type": "display_data"
    }
   ],
   "source": [
    "plt.imshow(template1, \"gray\")\n",
    "plt.title('Template 1')"
   ]
  },
  {
   "cell_type": "code",
   "execution_count": 33,
   "id": "exterior-giant",
   "metadata": {},
   "outputs": [
    {
     "data": {
      "text/plain": [
       "Text(0.5, 1.0, 'Template 2')"
      ]
     },
     "execution_count": 33,
     "metadata": {},
     "output_type": "execute_result"
    },
    {
     "data": {
      "image/png": "[encoded data removed]",
      "text/plain": [
       "<Figure size 432x288 with 1 Axes>"
      ]
     },
     "metadata": {
      "needs_background": "light"
     },
     "output_type": "display_data"
    }
   ],
   "source": [
    "plt.imshow(template2, \"gray\")\n",
    "plt.title('Template 2')"
   ]
  },
  {
   "cell_type": "code",
   "execution_count": null,
   "id": "rising-oxide",
   "metadata": {},
   "outputs": [],
   "source": [
    "\n",
    "\n",
    "\n",
    "\n",
    "\n"
   ]
  },
  {
   "cell_type": "code",
   "execution_count": null,
   "id": "combined-standing",
   "metadata": {},
   "outputs": [],
   "source": []
  },
  {
   "cell_type": "code",
   "execution_count": 34,
   "id": "fluid-reception",
   "metadata": {},
   "outputs": [],
   "source": [
    "template1Sum, template1Pos = simplefindPos(image1M, template1)"
   ]
  },
  {
   "cell_type": "code",
   "execution_count": 35,
   "id": "ambient-connectivity",
   "metadata": {},
   "outputs": [
    {
     "ename": "NameError",
     "evalue": "name 'image2M' is not defined",
     "output_type": "error",
     "traceback": [
      "\u001b[1;31m---------------------------------------------------------------------------\u001b[0m",
      "\u001b[1;31mNameError\u001b[0m                                 Traceback (most recent call last)",
      "\u001b[1;32m<ipython-input-35-290e853cdbf4>\u001b[0m in \u001b[0;36m<module>\u001b[1;34m\u001b[0m\n\u001b[1;32m----> 1\u001b[1;33m \u001b[0mtemplate2Sum\u001b[0m\u001b[1;33m,\u001b[0m \u001b[0mtemplate2Pos\u001b[0m \u001b[1;33m=\u001b[0m \u001b[0msimplefindPos\u001b[0m\u001b[1;33m(\u001b[0m\u001b[0mimage2M\u001b[0m\u001b[1;33m,\u001b[0m \u001b[0mtemplate2\u001b[0m\u001b[1;33m)\u001b[0m\u001b[1;33m\u001b[0m\u001b[1;33m\u001b[0m\u001b[0m\n\u001b[0m",
      "\u001b[1;31mNameError\u001b[0m: name 'image2M' is not defined"
     ]
    }
   ],
   "source": [
    "template2Sum, template2Pos = simplefindPos(image2M, template2)"
   ]
  },
  {
   "cell_type": "code",
   "execution_count": 36,
   "id": "contrary-habitat",
   "metadata": {},
   "outputs": [
    {
     "name": "stdout",
     "output_type": "stream",
     "text": [
      "[[0, 0, 0, 0, 0, 0, 0, 0, 0, 0, 0, 0, 0, 0, 0, 0, 0, 0, 0, 0, 0, 0, 0, 0, 0, 0, 0, 0, 0], [0, 0, 0, 0, 0, 0, 0, 0, 0, 0, 0, 0, 255, 255, 0, 0, 0, 0, 0, 0, 0, 0, 0, 0, 0, 0, 0, 0, 0], [0, 0, 0, 0, 0, 0, 0, 0, 0, 255, 255, 255, 0, 0, 255, 255, 255, 0, 0, 0, 0, 0, 0, 0, 0, 0, 0, 0, 0], [0, 0, 0, 0, 0, 0, 0, 0, 255, 255, 0, 0, 0, 0, 0, 0, 255, 255, 0, 0, 0, 0, 0, 0, 0, 0, 0, 0, 0], [0, 0, 0, 0, 0, 0, 0, 0, 255, 0, 0, 255, 0, 0, 0, 0, 0, 255, 255, 0, 0, 0, 0, 0, 0, 0, 0, 0, 0], [0, 0, 0, 0, 0, 0, 0, 0, 255, 0, 255, 0, 0, 0, 0, 0, 0, 0, 255, 0, 0, 0, 0, 0, 0, 0, 0, 0, 0], [0, 0, 0, 0, 0, 0, 0, 255, 0, 0, 0, 0, 0, 0, 0, 0, 0, 0, 255, 0, 0, 0, 0, 0, 0, 0, 0, 0, 0], [0, 0, 0, 0, 0, 0, 0, 255, 0, 255, 255, 255, 255, 255, 255, 255, 0, 0, 0, 255, 0, 0, 0, 0, 0, 0, 0, 0, 0], [0, 0, 0, 0, 0, 0, 0, 255, 0, 255, 0, 255, 0, 0, 0, 0, 0, 0, 0, 255, 0, 0, 0, 0, 0, 0, 0, 0, 0], [0, 0, 0, 0, 0, 0, 0, 255, 0, 255, 255, 255, 255, 255, 255, 0, 0, 0, 0, 255, 0, 0, 0, 0, 0, 0, 0, 0, 0], [0, 0, 0, 0, 0, 0, 0, 255, 0, 0, 0, 0, 0, 0, 0, 0, 0, 0, 0, 255, 0, 0, 0, 0, 0, 0, 0, 0, 0], [0, 0, 0, 0, 0, 0, 0, 255, 0, 0, 0, 0, 0, 0, 0, 0, 0, 0, 0, 0, 255, 0, 0, 0, 0, 0, 0, 0, 0], [0, 0, 0, 0, 0, 0, 0, 255, 0, 0, 255, 255, 255, 255, 0, 0, 0, 0, 0, 0, 255, 0, 0, 0, 0, 0, 0, 0, 0], [0, 0, 0, 0, 0, 0, 0, 255, 0, 0, 0, 0, 0, 255, 0, 0, 0, 0, 0, 0, 255, 0, 0, 0, 0, 0, 0, 0, 0], [0, 0, 0, 0, 0, 0, 0, 255, 0, 0, 0, 255, 255, 0, 0, 0, 0, 0, 0, 0, 255, 0, 0, 0, 0, 0, 0, 0, 0], [0, 0, 0, 0, 0, 0, 0, 255, 0, 0, 255, 0, 0, 0, 0, 0, 0, 0, 0, 0, 255, 0, 0, 0, 0, 0, 0, 0, 0], [0, 0, 0, 0, 0, 0, 0, 255, 0, 0, 0, 0, 0, 0, 0, 0, 0, 0, 0, 0, 255, 0, 0, 0, 0, 0, 0, 0, 0], [0, 0, 0, 0, 0, 0, 0, 255, 0, 0, 0, 0, 0, 0, 0, 0, 0, 0, 0, 0, 255, 0, 0, 0, 0, 0, 0, 0, 0], [0, 0, 0, 0, 0, 0, 0, 255, 0, 0, 0, 0, 0, 0, 0, 0, 0, 0, 0, 0, 255, 0, 0, 0, 0, 0, 0, 0, 0], [0, 0, 0, 0, 0, 0, 0, 255, 0, 0, 0, 0, 0, 0, 0, 0, 0, 0, 0, 0, 0, 255, 0, 0, 0, 0, 0, 0, 0], [0, 0, 0, 0, 0, 0, 0, 255, 0, 0, 0, 0, 0, 0, 0, 0, 0, 0, 0, 0, 0, 255, 0, 0, 0, 0, 0, 0, 0], [0, 0, 0, 0, 0, 0, 0, 255, 0, 0, 0, 0, 0, 0, 0, 0, 0, 0, 0, 0, 0, 255, 0, 0, 0, 0, 0, 0, 0], [0, 0, 0, 0, 0, 0, 0, 255, 0, 0, 0, 0, 0, 0, 0, 0, 0, 0, 0, 0, 0, 255, 0, 0, 0, 0, 0, 0, 0], [0, 0, 0, 0, 0, 0, 0, 255, 0, 0, 0, 0, 0, 0, 0, 0, 0, 0, 0, 0, 0, 255, 0, 0, 0, 0, 0, 0, 0], [0, 0, 0, 0, 0, 0, 0, 255, 0, 0, 0, 0, 0, 0, 0, 0, 0, 0, 0, 0, 0, 255, 0, 0, 0, 0, 0, 0, 0], [0, 0, 0, 0, 0, 0, 0, 255, 0, 0, 0, 0, 0, 0, 0, 0, 0, 0, 0, 0, 0, 255, 0, 0, 0, 0, 0, 0, 0], [0, 0, 0, 0, 0, 0, 0, 255, 0, 0, 0, 0, 0, 0, 0, 0, 0, 0, 0, 0, 255, 0, 0, 0, 0, 0, 0, 0, 0], [0, 0, 0, 0, 0, 0, 0, 255, 0, 0, 0, 0, 0, 0, 0, 0, 0, 0, 0, 0, 255, 0, 0, 0, 0, 0, 0, 0, 0], [0, 0, 0, 0, 0, 0, 0, 255, 0, 0, 0, 0, 0, 0, 0, 0, 0, 0, 0, 0, 255, 0, 0, 0, 0, 0, 0, 0, 0], [0, 0, 0, 0, 0, 0, 0, 255, 0, 0, 0, 0, 0, 0, 0, 0, 0, 0, 0, 0, 255, 0, 0, 0, 0, 0, 0, 0, 0], [0, 0, 0, 0, 0, 0, 255, 0, 0, 0, 0, 0, 0, 0, 0, 0, 0, 0, 0, 0, 255, 0, 0, 0, 0, 0, 0, 0, 0], [0, 0, 0, 0, 0, 0, 255, 0, 0, 0, 0, 0, 0, 0, 0, 0, 0, 0, 0, 0, 255, 0, 0, 0, 0, 0, 0, 0, 0], [0, 0, 0, 0, 0, 0, 255, 0, 0, 0, 0, 0, 0, 0, 0, 0, 0, 0, 0, 255, 0, 0, 0, 0, 0, 0, 0, 0, 0], [0, 0, 0, 0, 0, 0, 255, 0, 0, 0, 0, 0, 0, 0, 0, 0, 0, 0, 0, 255, 0, 0, 0, 0, 0, 0, 0, 0, 0], [0, 0, 0, 0, 0, 0, 255, 0, 0, 0, 0, 0, 0, 0, 0, 0, 0, 0, 0, 255, 0, 0, 0, 0, 0, 0, 0, 0, 0], [0, 0, 0, 0, 0, 0, 255, 0, 0, 0, 0, 0, 0, 0, 0, 0, 0, 0, 255, 0, 0, 0, 0, 0, 0, 0, 0, 0, 0], [0, 0, 0, 0, 0, 0, 255, 0, 0, 0, 0, 0, 0, 0, 0, 0, 0, 0, 255, 0, 0, 0, 0, 0, 0, 0, 0, 0, 0], [0, 0, 0, 0, 0, 0, 255, 0, 0, 0, 0, 0, 0, 0, 0, 0, 0, 255, 255, 0, 0, 0, 0, 0, 0, 0, 0, 0, 0], [0, 0, 0, 0, 0, 0, 0, 255, 0, 0, 0, 0, 0, 0, 0, 0, 255, 255, 0, 0, 0, 0, 0, 0, 0, 0, 0, 0, 0], [0, 0, 0, 0, 0, 0, 0, 255, 255, 0, 0, 0, 0, 0, 0, 255, 255, 0, 0, 0, 0, 0, 0, 0, 0, 0, 0, 0, 0], [0, 0, 0, 0, 0, 0, 0, 0, 255, 255, 0, 0, 0, 255, 255, 255, 0, 0, 0, 0, 0, 0, 0, 0, 0, 0, 0, 0, 0], [0, 0, 0, 0, 0, 0, 0, 0, 0, 0, 255, 255, 255, 0, 0, 0, 0, 0, 0, 0, 0, 0, 0, 0, 0, 0, 0, 0, 0], [0, 0, 0, 0, 0, 0, 0, 0, 0, 0, 0, 0, 0, 0, 0, 0, 0, 0, 0, 0, 0, 0, 0, 0, 0, 0, 0, 0, 0]]\n"
     ]
    }
   ],
   "source": [
    "print(template1Pos)"
   ]
  },
  {
   "cell_type": "code",
   "execution_count": 37,
   "id": "clean-halloween",
   "metadata": {},
   "outputs": [
    {
     "ename": "NameError",
     "evalue": "name 'template2Pos' is not defined",
     "output_type": "error",
     "traceback": [
      "\u001b[1;31m---------------------------------------------------------------------------\u001b[0m",
      "\u001b[1;31mNameError\u001b[0m                                 Traceback (most recent call last)",
      "\u001b[1;32m<ipython-input-37-762a942f9768>\u001b[0m in \u001b[0;36m<module>\u001b[1;34m\u001b[0m\n\u001b[1;32m----> 1\u001b[1;33m \u001b[0mprint\u001b[0m\u001b[1;33m(\u001b[0m\u001b[0mtemplate2Pos\u001b[0m\u001b[1;33m)\u001b[0m\u001b[1;33m\u001b[0m\u001b[1;33m\u001b[0m\u001b[0m\n\u001b[0m",
      "\u001b[1;31mNameError\u001b[0m: name 'template2Pos' is not defined"
     ]
    }
   ],
   "source": [
    "print(template2Pos)"
   ]
  },
  {
   "cell_type": "code",
   "execution_count": 38,
   "id": "proof-cleaner",
   "metadata": {},
   "outputs": [
    {
     "data": {
      "text/plain": [
       "Text(0.5, 1.0, 'Template pos 1')"
      ]
     },
     "execution_count": 38,
     "metadata": {},
     "output_type": "execute_result"
    },
    {
     "data": {
      "image/png": "[encoded data removed]",
      "text/plain": [
       "<Figure size 432x288 with 1 Axes>"
      ]
     },
     "metadata": {
      "needs_background": "light"
     },
     "output_type": "display_data"
    }
   ],
   "source": [
    "plt.imshow(template1Pos, \"gray\")\n",
    "plt.title('Template pos 1')"
   ]
  },
  {
   "cell_type": "code",
   "execution_count": 39,
   "id": "white-alloy",
   "metadata": {},
   "outputs": [
    {
     "ename": "NameError",
     "evalue": "name 'template2Pos' is not defined",
     "output_type": "error",
     "traceback": [
      "\u001b[1;31m---------------------------------------------------------------------------\u001b[0m",
      "\u001b[1;31mNameError\u001b[0m                                 Traceback (most recent call last)",
      "\u001b[1;32m<ipython-input-39-0b0dacd8882d>\u001b[0m in \u001b[0;36m<module>\u001b[1;34m\u001b[0m\n\u001b[1;32m----> 1\u001b[1;33m \u001b[0mplt\u001b[0m\u001b[1;33m.\u001b[0m\u001b[0mimshow\u001b[0m\u001b[1;33m(\u001b[0m\u001b[0mtemplate2Pos\u001b[0m\u001b[1;33m,\u001b[0m \u001b[1;34m\"gray\"\u001b[0m\u001b[1;33m)\u001b[0m\u001b[1;33m\u001b[0m\u001b[1;33m\u001b[0m\u001b[0m\n\u001b[0m\u001b[0;32m      2\u001b[0m \u001b[0mplt\u001b[0m\u001b[1;33m.\u001b[0m\u001b[0mtitle\u001b[0m\u001b[1;33m(\u001b[0m\u001b[1;34m'Template pos 1'\u001b[0m\u001b[1;33m)\u001b[0m\u001b[1;33m\u001b[0m\u001b[1;33m\u001b[0m\u001b[0m\n",
      "\u001b[1;31mNameError\u001b[0m: name 'template2Pos' is not defined"
     ]
    }
   ],
   "source": [
    "plt.imshow(template2Pos, \"gray\")\n",
    "plt.title('Template pos 1')"
   ]
  },
  {
   "cell_type": "code",
   "execution_count": null,
   "id": "handmade-liberty",
   "metadata": {},
   "outputs": [],
   "source": [
    "\n",
    "\n",
    "\n",
    "\n"
   ]
  },
  {
   "cell_type": "code",
   "execution_count": 40,
   "id": "intended-disorder",
   "metadata": {},
   "outputs": [],
   "source": [
    "image1template1 = connect(image1, template1Pos)"
   ]
  },
  {
   "cell_type": "code",
   "execution_count": 41,
   "id": "flying-center",
   "metadata": {},
   "outputs": [
    {
     "ename": "NameError",
     "evalue": "name 'template2Pos' is not defined",
     "output_type": "error",
     "traceback": [
      "\u001b[1;31m---------------------------------------------------------------------------\u001b[0m",
      "\u001b[1;31mNameError\u001b[0m                                 Traceback (most recent call last)",
      "\u001b[1;32m<ipython-input-41-d4c3cf0c4038>\u001b[0m in \u001b[0;36m<module>\u001b[1;34m\u001b[0m\n\u001b[1;32m----> 1\u001b[1;33m \u001b[0mimage2template2\u001b[0m \u001b[1;33m=\u001b[0m \u001b[0mconnect\u001b[0m\u001b[1;33m(\u001b[0m\u001b[0mimage2\u001b[0m\u001b[1;33m,\u001b[0m \u001b[0mtemplate2Pos\u001b[0m\u001b[1;33m)\u001b[0m\u001b[1;33m\u001b[0m\u001b[1;33m\u001b[0m\u001b[0m\n\u001b[0m",
      "\u001b[1;31mNameError\u001b[0m: name 'template2Pos' is not defined"
     ]
    }
   ],
   "source": [
    "image2template2 = connect(image2, template2Pos)"
   ]
  },
  {
   "cell_type": "code",
   "execution_count": null,
   "id": "great-ordering",
   "metadata": {},
   "outputs": [],
   "source": []
  },
  {
   "cell_type": "code",
   "execution_count": 42,
   "id": "standard-ground",
   "metadata": {},
   "outputs": [
    {
     "data": {
      "text/plain": [
       "Text(0.5, 1.0, 'image1template1')"
      ]
     },
     "execution_count": 42,
     "metadata": {},
     "output_type": "execute_result"
    },
    {
     "data": {
      "image/png": "[encoded data removed]",
      "text/plain": [
       "<Figure size 432x288 with 1 Axes>"
      ]
     },
     "metadata": {
      "needs_background": "light"
     },
     "output_type": "display_data"
    }
   ],
   "source": [
    "plt.imshow(image1template1)\n",
    "plt.title('image1template1')\n",
    "plt.imshow(image1template1)\n",
    "plt.title('image1template1')"
   ]
  },
  {
   "cell_type": "code",
   "execution_count": null,
   "id": "controlled-aluminum",
   "metadata": {},
   "outputs": [],
   "source": []
  },
  {
   "cell_type": "code",
   "execution_count": 41,
   "id": "interstate-stewart",
   "metadata": {},
   "outputs": [
    {
     "name": "stdout",
     "output_type": "stream",
     "text": [
      "[[11 10  9 ... 12 13 14]\n",
      " [10  9  8 ... 11 12 13]\n",
      " [ 9  8  7 ... 10 11 12]\n",
      " ...\n",
      " [ 8  7  6 ... 11 12 13]\n",
      " [ 9  8  7 ... 12 13 14]\n",
      " [10  9  8 ... 13 14 15]]\n"
     ]
    }
   ],
   "source": [
    "\n",
    "with open('imagetest1M.npy', 'wb') as f:\n",
    "    np.save(f, np.array(image1M))\n",
    "with open('imagetest1M.npy', 'rb') as f:\n",
    "    a = np.load(f)"
   ]
  },
  {
   "cell_type": "code",
   "execution_count": null,
   "id": "dutch-ukraine",
   "metadata": {},
   "outputs": [],
   "source": []
  }
 ],
 "metadata": {
  "kernelspec": {
   "display_name": "Python 3",
   "language": "python",
   "name": "python3"
  },
  "language_info": {
   "codemirror_mode": {
    "name": "ipython",
    "version": 3
   },
   "file_extension": ".py",
   "mimetype": "text/x-python",
   "name": "python",
   "nbconvert_exporter": "python",
   "pygments_lexer": "ipython3",
   "version": "3.8.5"
  }
 },
 "nbformat": 4,
 "nbformat_minor": 5
}
